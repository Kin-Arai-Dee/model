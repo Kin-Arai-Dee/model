{
 "cells": [
  {
   "cell_type": "code",
   "execution_count": null,
   "metadata": {},
   "outputs": [],
   "source": [
    "import pandas as pd\n",
    "\n",
    "# Read JSON file into a Pandas DataFrame\n",
    "df = pd.read_json('../data/clean_recipe_data_ugc.json')"
   ]
  },
  {
   "cell_type": "code",
   "execution_count": 3,
   "metadata": {},
   "outputs": [],
   "source": [
    "import re\n",
    "def remove_emojis(data):\n",
    "    emoji = re.compile(\"[\"\n",
    "        u\"\\U0001F600-\\U0001F64F\"  # emoticons\n",
    "        u\"\\U0001F300-\\U0001F5FF\"  # symbols & pictographs\n",
    "        u\"\\U0001F680-\\U0001F6FF\"  # transport & map symbols\n",
    "        u\"\\U0001F1E0-\\U0001F1FF\"  # flags (iOS)\n",
    "        u\"\\U00002500-\\U00002BEF\"  # chinese char\n",
    "        u\"\\U00002702-\\U000027B0\"\n",
    "        u\"\\U00002702-\\U000027B0\"\n",
    "        u\"\\U000024C2-\\U0001F251\"\n",
    "        u\"\\U0001f926-\\U0001f937\"\n",
    "        u\"\\U00010000-\\U0010ffff\"\n",
    "        u\"\\u2640-\\u2642\" \n",
    "        u\"\\u2600-\\u2B55\"\n",
    "        u\"\\u200d\"\n",
    "        u\"\\u23cf\"\n",
    "        u\"\\u23e9\"\n",
    "        u\"\\u231a\"\n",
    "        u\"\\ufe0f\"  # dingbats\n",
    "        u\"\\u3030\"\n",
    "                      \"]+\", re.UNICODE)\n",
    "    return re.sub(emoji, '', data)\n",
    "\n"
   ]
  },
  {
   "cell_type": "code",
   "execution_count": 4,
   "metadata": {},
   "outputs": [
    {
     "data": {
      "text/html": [
       "<div>\n",
       "<style scoped>\n",
       "    .dataframe tbody tr th:only-of-type {\n",
       "        vertical-align: middle;\n",
       "    }\n",
       "\n",
       "    .dataframe tbody tr th {\n",
       "        vertical-align: top;\n",
       "    }\n",
       "\n",
       "    .dataframe thead th {\n",
       "        text-align: right;\n",
       "    }\n",
       "</style>\n",
       "<table border=\"1\" class=\"dataframe\">\n",
       "  <thead>\n",
       "    <tr style=\"text-align: right;\">\n",
       "      <th></th>\n",
       "      <th>title</th>\n",
       "      <th>url</th>\n",
       "      <th>allTimeScore</th>\n",
       "      <th>view</th>\n",
       "      <th>totalLike</th>\n",
       "      <th>photos</th>\n",
       "      <th>ingredients</th>\n",
       "      <th>tags</th>\n",
       "    </tr>\n",
       "  </thead>\n",
       "  <tbody>\n",
       "    <tr>\n",
       "      <th>0</th>\n",
       "      <td>ั่ั็ัี</td>\n",
       "      <td>recipes/ugc/0f3a82d664274df380f802495e5c0d8c</td>\n",
       "      <td>750</td>\n",
       "      <td>680</td>\n",
       "      <td>1</td>\n",
       "      <td>[{'contentUrl': 'https://img.wongnai.com/p/196...</td>\n",
       "      <td>[{'ingredientName': 'ไก่สับเป็ดสับต้มแล้ว', 'a...</td>\n",
       "      <td>[{'externalId': 'chicken-recipes', 'primaryNam...</td>\n",
       "    </tr>\n",
       "    <tr>\n",
       "      <th>1</th>\n",
       "      <td>ุ้</td>\n",
       "      <td>recipes/ugc/d19b99c83bbf49bf89c2d31279c5ce28</td>\n",
       "      <td>1188</td>\n",
       "      <td>948</td>\n",
       "      <td>4</td>\n",
       "      <td>[{'contentUrl': 'https://img.wongnai.com/p/196...</td>\n",
       "      <td>[{'ingredientName': 'กุ้งขาวใหญ่', 'amount': '...</td>\n",
       "      <td>[{'externalId': 'main-dish-recipes', 'primaryN...</td>\n",
       "    </tr>\n",
       "    <tr>\n",
       "      <th>2</th>\n",
       "      <td>ีัึ่็</td>\n",
       "      <td>recipes/ugc/1398926e639148469a2326af3e14918a</td>\n",
       "      <td>751</td>\n",
       "      <td>641</td>\n",
       "      <td>5</td>\n",
       "      <td>[{'contentUrl': 'https://img.wongnai.com/p/196...</td>\n",
       "      <td>[{'ingredientName': 'เส้นสปาเกตตี(แห้ง)', 'amo...</td>\n",
       "      <td>[{'externalId': 'main-dish-recipes', 'primaryN...</td>\n",
       "    </tr>\n",
       "    <tr>\n",
       "      <th>3</th>\n",
       "      <td>่ัีุ้้🦐</td>\n",
       "      <td>recipes/ugc/f8791e4d0eb0413dbb020a6c5a0da392</td>\n",
       "      <td>749</td>\n",
       "      <td>739</td>\n",
       "      <td>1</td>\n",
       "      <td>[{'contentUrl': 'https://img.wongnai.com/p/196...</td>\n",
       "      <td>[{'ingredientName': 'บะหมี่กึ่งสำเร็จรูป', 'am...</td>\n",
       "      <td>[{'externalId': 'noodle-recipes', 'primaryName...</td>\n",
       "    </tr>\n",
       "    <tr>\n",
       "      <th>4</th>\n",
       "      <td>ี่ีุ่่{ีู่}</td>\n",
       "      <td>recipes/ugc/f7da2ced90b3489080046a932f3f3a14</td>\n",
       "      <td>3382</td>\n",
       "      <td>3332</td>\n",
       "      <td>5</td>\n",
       "      <td>[{'contentUrl': 'https://img.wongnai.com/p/196...</td>\n",
       "      <td>[{'ingredientName': 'น้ำสะอาด', 'amount': '1.2...</td>\n",
       "      <td>[{'externalId': 'main-dish-recipes', 'primaryN...</td>\n",
       "    </tr>\n",
       "    <tr>\n",
       "      <th>...</th>\n",
       "      <td>...</td>\n",
       "      <td>...</td>\n",
       "      <td>...</td>\n",
       "      <td>...</td>\n",
       "      <td>...</td>\n",
       "      <td>...</td>\n",
       "      <td>...</td>\n",
       "      <td>...</td>\n",
       "    </tr>\n",
       "    <tr>\n",
       "      <th>4502</th>\n",
       "      <td>่ีุ้้</td>\n",
       "      <td>recipes/ugc/06ff7cbecffa46e88656c1938bf250a8</td>\n",
       "      <td>361</td>\n",
       "      <td>221</td>\n",
       "      <td>2</td>\n",
       "      <td>[{'contentUrl': 'https://img.wongnai.com/p/196...</td>\n",
       "      <td>[{'ingredientName': 'ไข่ไก่', 'amount': '2 ฟอง...</td>\n",
       "      <td>[{'externalId': 'egg-recipes', 'primaryName': ...</td>\n",
       "    </tr>\n",
       "    <tr>\n",
       "      <th>4503</th>\n",
       "      <td>ิัิ</td>\n",
       "      <td>recipes/ugc/f2097cc5a9494fdea2f0d06b3e0e53a1</td>\n",
       "      <td>1862</td>\n",
       "      <td>1782</td>\n",
       "      <td>2</td>\n",
       "      <td>[{'contentUrl': 'https://img.wongnai.com/p/196...</td>\n",
       "      <td>[{'ingredientName': 'สันคอหมูสไลด์', 'amount':...</td>\n",
       "      <td>[{'externalId': 'pork-recipes', 'primaryName':...</td>\n",
       "    </tr>\n",
       "    <tr>\n",
       "      <th>4504</th>\n",
       "      <td>็ิ</td>\n",
       "      <td>recipes/ugc/628c5edecc2142a98dc27d3f09fef7f4</td>\n",
       "      <td>6851</td>\n",
       "      <td>6751</td>\n",
       "      <td>7</td>\n",
       "      <td>[{'contentUrl': 'https://img.wongnai.com/p/196...</td>\n",
       "      <td>[{'ingredientName': 'แซลมอน', 'amount': '2 ชิ้...</td>\n",
       "      <td>[{'externalId': 'egg-recipes', 'primaryName': ...</td>\n",
       "    </tr>\n",
       "    <tr>\n",
       "      <th>4505</th>\n",
       "      <td>ั็ุุ้ิ</td>\n",
       "      <td>recipes/ugc/9944eda2954540a4b55251e5af26d3cd</td>\n",
       "      <td>3731</td>\n",
       "      <td>3691</td>\n",
       "      <td>1</td>\n",
       "      <td>[{'contentUrl': 'https://img.wongnai.com/p/196...</td>\n",
       "      <td>[{'ingredientName': 'ปลาดุกหั่นเป็นชิ้น', 'amo...</td>\n",
       "      <td>[{'externalId': 'fish-recipes', 'primaryName':...</td>\n",
       "    </tr>\n",
       "    <tr>\n",
       "      <th>4506</th>\n",
       "      <td>ัุู้้</td>\n",
       "      <td>recipes/ugc/273249a7881248359acd7e8b7fabbe64</td>\n",
       "      <td>1939</td>\n",
       "      <td>1939</td>\n",
       "      <td>0</td>\n",
       "      <td>[{'contentUrl': 'https://img.wongnai.com/p/196...</td>\n",
       "      <td>[{'ingredientName': 'วุ้นเส้น', 'amount': '1 ซ...</td>\n",
       "      <td>[{'externalId': 'pork-recipes', 'primaryName':...</td>\n",
       "    </tr>\n",
       "  </tbody>\n",
       "</table>\n",
       "<p>4507 rows × 8 columns</p>\n",
       "</div>"
      ],
      "text/plain": [
       "            title                                           url  allTimeScore  \\\n",
       "0          ั่ั็ัี  recipes/ugc/0f3a82d664274df380f802495e5c0d8c           750   \n",
       "1              ุ้  recipes/ugc/d19b99c83bbf49bf89c2d31279c5ce28          1188   \n",
       "2           ีัึ่็  recipes/ugc/1398926e639148469a2326af3e14918a           751   \n",
       "3         ่ัีุ้้🦐  recipes/ugc/f8791e4d0eb0413dbb020a6c5a0da392           749   \n",
       "4     ี่ีุ่่{ีู่}  recipes/ugc/f7da2ced90b3489080046a932f3f3a14          3382   \n",
       "...           ...                                           ...           ...   \n",
       "4502        ่ีุ้้  recipes/ugc/06ff7cbecffa46e88656c1938bf250a8           361   \n",
       "4503          ิัิ  recipes/ugc/f2097cc5a9494fdea2f0d06b3e0e53a1          1862   \n",
       "4504           ็ิ  recipes/ugc/628c5edecc2142a98dc27d3f09fef7f4          6851   \n",
       "4505       ั็ุุ้ิ  recipes/ugc/9944eda2954540a4b55251e5af26d3cd          3731   \n",
       "4506        ัุู้้  recipes/ugc/273249a7881248359acd7e8b7fabbe64          1939   \n",
       "\n",
       "      view  totalLike                                             photos  \\\n",
       "0      680          1  [{'contentUrl': 'https://img.wongnai.com/p/196...   \n",
       "1      948          4  [{'contentUrl': 'https://img.wongnai.com/p/196...   \n",
       "2      641          5  [{'contentUrl': 'https://img.wongnai.com/p/196...   \n",
       "3      739          1  [{'contentUrl': 'https://img.wongnai.com/p/196...   \n",
       "4     3332          5  [{'contentUrl': 'https://img.wongnai.com/p/196...   \n",
       "...    ...        ...                                                ...   \n",
       "4502   221          2  [{'contentUrl': 'https://img.wongnai.com/p/196...   \n",
       "4503  1782          2  [{'contentUrl': 'https://img.wongnai.com/p/196...   \n",
       "4504  6751          7  [{'contentUrl': 'https://img.wongnai.com/p/196...   \n",
       "4505  3691          1  [{'contentUrl': 'https://img.wongnai.com/p/196...   \n",
       "4506  1939          0  [{'contentUrl': 'https://img.wongnai.com/p/196...   \n",
       "\n",
       "                                            ingredients  \\\n",
       "0     [{'ingredientName': 'ไก่สับเป็ดสับต้มแล้ว', 'a...   \n",
       "1     [{'ingredientName': 'กุ้งขาวใหญ่', 'amount': '...   \n",
       "2     [{'ingredientName': 'เส้นสปาเกตตี(แห้ง)', 'amo...   \n",
       "3     [{'ingredientName': 'บะหมี่กึ่งสำเร็จรูป', 'am...   \n",
       "4     [{'ingredientName': 'น้ำสะอาด', 'amount': '1.2...   \n",
       "...                                                 ...   \n",
       "4502  [{'ingredientName': 'ไข่ไก่', 'amount': '2 ฟอง...   \n",
       "4503  [{'ingredientName': 'สันคอหมูสไลด์', 'amount':...   \n",
       "4504  [{'ingredientName': 'แซลมอน', 'amount': '2 ชิ้...   \n",
       "4505  [{'ingredientName': 'ปลาดุกหั่นเป็นชิ้น', 'amo...   \n",
       "4506  [{'ingredientName': 'วุ้นเส้น', 'amount': '1 ซ...   \n",
       "\n",
       "                                                   tags  \n",
       "0     [{'externalId': 'chicken-recipes', 'primaryNam...  \n",
       "1     [{'externalId': 'main-dish-recipes', 'primaryN...  \n",
       "2     [{'externalId': 'main-dish-recipes', 'primaryN...  \n",
       "3     [{'externalId': 'noodle-recipes', 'primaryName...  \n",
       "4     [{'externalId': 'main-dish-recipes', 'primaryN...  \n",
       "...                                                 ...  \n",
       "4502  [{'externalId': 'egg-recipes', 'primaryName': ...  \n",
       "4503  [{'externalId': 'pork-recipes', 'primaryName':...  \n",
       "4504  [{'externalId': 'egg-recipes', 'primaryName': ...  \n",
       "4505  [{'externalId': 'fish-recipes', 'primaryName':...  \n",
       "4506  [{'externalId': 'pork-recipes', 'primaryName':...  \n",
       "\n",
       "[4507 rows x 8 columns]"
      ]
     },
     "execution_count": 4,
     "metadata": {},
     "output_type": "execute_result"
    }
   ],
   "source": [
    "df['title'] = df['title'].apply(remove_emojis)\n",
    "df"
   ]
  },
  {
   "cell_type": "code",
   "execution_count": null,
   "metadata": {},
   "outputs": [],
   "source": [
    "df"
   ]
  },
  {
   "cell_type": "code",
   "execution_count": null,
   "metadata": {},
   "outputs": [],
   "source": [
    "df = df.sort_values(by='allTimeScore', ascending=False)\n",
    "\n",
    "df = df.drop_duplicates(subset='title', keep='first')\n"
   ]
  },
  {
   "cell_type": "code",
   "execution_count": null,
   "metadata": {},
   "outputs": [],
   "source": [
    "df['short_tile'] = df['title'].apply(lambda title: title.split()[0])"
   ]
  },
  {
   "cell_type": "code",
   "execution_count": null,
   "metadata": {},
   "outputs": [],
   "source": [
    "with open('../data/data.csv', 'w') as f:\n",
    "  f.write(df.to_csv())"
   ]
  },
  {
   "cell_type": "code",
   "execution_count": null,
   "metadata": {},
   "outputs": [],
   "source": [
    "from pythainlp.tokenize import word_tokenize\n",
    "from pythainlp.tag import pos_tag"
   ]
  },
  {
   "cell_type": "code",
   "execution_count": null,
   "metadata": {},
   "outputs": [],
   "source": [
    "df = pd.read_csv('../data/data_with_title.csv')"
   ]
  },
  {
   "cell_type": "code",
   "execution_count": null,
   "metadata": {},
   "outputs": [],
   "source": [
    "df"
   ]
  },
  {
   "cell_type": "code",
   "execution_count": null,
   "metadata": {},
   "outputs": [],
   "source": [
    "df['short_title'] = df['short_tile']\n",
    "df.drop('short_tile', inplace=True, axis=1)"
   ]
  },
  {
   "cell_type": "code",
   "execution_count": null,
   "metadata": {},
   "outputs": [],
   "source": [
    "df['title_tokenize'] = df['short_title'].apply(lambda title: word_tokenize(title, engine=\"newmm\"))\n",
    "df"
   ]
  },
  {
   "cell_type": "code",
   "execution_count": null,
   "metadata": {},
   "outputs": [],
   "source": [
    "df['title_tokenize_tag'] = df['title_tokenize'].apply(lambda words: pos_tag(words))\n",
    "df"
   ]
  },
  {
   "cell_type": "code",
   "execution_count": null,
   "metadata": {},
   "outputs": [],
   "source": [
    "from pythainlp.tag import pos_tag\n",
    "\n",
    "\n",
    "df['noun_title'] = df['title_tokenize'].apply(lambda words: [word[0] for word in pos_tag(words) if word[1] in ['NCMN', 'VACT','VATT']])\n",
    "df"
   ]
  },
  {
   "cell_type": "code",
   "execution_count": null,
   "metadata": {},
   "outputs": [],
   "source": [
    "df['noun_title'].sample(20)"
   ]
  },
  {
   "cell_type": "code",
   "execution_count": null,
   "metadata": {},
   "outputs": [],
   "source": [
    "df.__len__()"
   ]
  },
  {
   "cell_type": "code",
   "execution_count": null,
   "metadata": {},
   "outputs": [],
   "source": [
    "df = df.sort_values(by='allTimeScore', ascending=False)\n",
    "\n",
    "df = df.drop_duplicates(subset='noun_title', keep='first')"
   ]
  },
  {
   "cell_type": "code",
   "execution_count": null,
   "metadata": {},
   "outputs": [],
   "source": [
    "df.__len__()"
   ]
  },
  {
   "cell_type": "code",
   "execution_count": null,
   "metadata": {},
   "outputs": [],
   "source": [
    "with open('new_data.csv', 'w') as f:\n",
    "  f.write(df.to_csv())"
   ]
  }
 ],
 "metadata": {
  "kernelspec": {
   "display_name": "Python 3",
   "language": "python",
   "name": "python3"
  },
  "language_info": {
   "codemirror_mode": {
    "name": "ipython",
    "version": 3
   },
   "file_extension": ".py",
   "mimetype": "text/x-python",
   "name": "python",
   "nbconvert_exporter": "python",
   "pygments_lexer": "ipython3",
   "version": "3.9.12"
  },
  "orig_nbformat": 4,
  "vscode": {
   "interpreter": {
    "hash": "81794d4967e6c3204c66dcd87b604927b115b27c00565d3d43f05ba2f3a2cb0d"
   }
  }
 },
 "nbformat": 4,
 "nbformat_minor": 2
}
