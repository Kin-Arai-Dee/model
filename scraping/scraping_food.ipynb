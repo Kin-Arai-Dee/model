{
 "cells": [
  {
   "cell_type": "code",
   "execution_count": null,
   "metadata": {},
   "outputs": [],
   "source": [
    "from selenium import webdriver\n",
    "from bs4 import BeautifulSoup\n",
    "from selenium.webdriver.common.by import By\n",
    "from time import sleep\n",
    "import re\n",
    "import urllib.parse\n",
    "\n",
    "# Create a new instance of the chrome driver\n",
    "driver = webdriver.Chrome()\n",
    "\n",
    "# Go to the website\n",
    "driver.get(\"https://www.wongnai.com/recipes/tags/main-dish-recipes?sort.type=1\")\n"
   ]
  },
  {
   "cell_type": "code",
   "execution_count": null,
   "metadata": {},
   "outputs": [],
   "source": [
    "# Locate the \"show more\" button\n",
    "show_more_button = driver.find_element(By.CSS_SELECTOR, \"button.sc-AxiKw.rxj62z-1.inRrnP\")\n",
    "count = 0\n",
    "# Scroll down the page and click the \"show more\" button until all the desired data is loaded\n",
    "while show_more_button.is_displayed():\n",
    "    driver.execute_script(\"arguments[0].scrollIntoView();\", show_more_button)\n",
    "    show_more_button.click()\n",
    "    sleep(5)\n",
    "    count+=1\n",
    "    if count > 700:\n",
    "      break\n",
    "\n"
   ]
  },
  {
   "cell_type": "code",
   "execution_count": null,
   "metadata": {},
   "outputs": [],
   "source": [
    "# Extract the HTML data\n",
    "html_data = driver.page_source\n",
    "\n",
    "# Close the driver\n",
    "driver.quit()"
   ]
  },
  {
   "cell_type": "code",
   "execution_count": null,
   "metadata": {},
   "outputs": [],
   "source": [
    "# Use BeautifulSoup to parse the HTML data\n",
    "soup = BeautifulSoup(html_data, 'html.parser')\n",
    "\n",
    "# Find all links in the HTML data\n",
    "links = soup.find_all('a')\n",
    "\n",
    "# Create a list to store the links that start with '/recipes'\n",
    "recipe_url_ugc = set()\n",
    "recipe_url = set()\n",
    "base = 'https://www.wongnai.com/'\n",
    "# Iterate over the links and check if each one starts with '/recipes'\n",
    "for link in links:\n",
    "    #print(link)\n",
    "    # if re.match(r'(\\/?)recipes/ugc',link.get('href')):\n",
    "    #     recipe_links_ugc.add(link.get('href'))\n",
    "    if re.match(r'(\\/?)recipes/ugc',link.get('href')):\n",
    "        recipe_url_ugc.add(urllib.parse.urljoin(base,link.get('href')))\n",
    "    elif re.match(r'(\\/?)recipes',link.get('href')):\n",
    "        recipe_url.add(urllib.parse.urljoin(base,link.get('href')))\n",
    "\n",
    "# Print the links\n",
    "#print(list(recipe_links))\n"
   ]
  },
  {
   "cell_type": "code",
   "execution_count": null,
   "metadata": {},
   "outputs": [],
   "source": [
    "# with open(\"recipes.txt\", \"w\") as file:\n",
    "#     file.write(\"\\n\".join(list(recipe_links)))\n",
    "# with open(\"recipes_ugc.txt\", \"w\") as file:\n",
    "#     file.write(\"\\n\".join(list(recipe_links_ugc)))\n",
    "with open(\"recipes_url_ugc.txt\", \"w\") as file:\n",
    "    file.write(\"\\n\".join(list(recipe_url_ugc)))\n",
    "with open(\"recipes_url.txt\", \"w\") as file:\n",
    "    file.write(\"\\n\".join(list(recipe_url)))"
   ]
  },
  {
   "cell_type": "code",
   "execution_count": null,
   "metadata": {},
   "outputs": [],
   "source": [
    "import requests\n",
    "from bs4 import BeautifulSoup\n",
    "import json\n",
    "\n",
    "def get_recipe_data_ugc(url):\n",
    "    headers = {'User-Agent': 'Mozilla/5.0 (Windows NT 10.0; Win64; x64) AppleWebKit/537.36 (KHTML, like Gecko) Chrome/89.0.4389.82 Safari/537.36'}\n",
    "\n",
    "    response = requests.get(url, headers=headers)\n",
    "    soup = BeautifulSoup(response.text, \"html.parser\")\n",
    "\n",
    "    try:\n",
    "        script = soup.find(\"script\", attrs={\"type\": \"text/javascript\"}).text\n",
    "        start = script.find(\"window._wn = \") + len(\"window._wn = \")\n",
    "        end = script.find(\"};\", start) + 1\n",
    "        json_str = script[start:end]\n",
    "        data = json.loads(json_str)\n",
    "        return data[\"store\"][\"recipeData\"][\"value\"][\"data\"]\n",
    "    except Exception as e:\n",
    "        print(e)\n",
    "\n"
   ]
  },
  {
   "cell_type": "code",
   "execution_count": null,
   "metadata": {},
   "outputs": [],
   "source": [
    "import requests\n",
    "from bs4 import BeautifulSoup\n",
    "import json\n",
    "\n",
    "def get_recipe_data(url):\n",
    "    headers = {'User-Agent': 'PostmanRuntime/7.26.10'}\n",
    "\n",
    "    response = requests.get(url, headers=headers)\n",
    "    soup = BeautifulSoup(response.text, \"html.parser\")\n",
    "    try:\n",
    "\n",
    "        script = soup.find(\"script\", attrs={\"type\": \"text/javascript\"}).text\n",
    "        start = script.find(\"window._wn = \") + len(\"window._wn = \")\n",
    "        end = script.find(\"};\", start) + 1\n",
    "        json_str = script[start:end]\n",
    "        data = json.loads(json_str)\n",
    "        return data[\"store\"][\"article\"][\"value\"]\n",
    "    except Exception as e:\n",
    "        print(e)"
   ]
  },
  {
   "cell_type": "code",
   "execution_count": null,
   "metadata": {},
   "outputs": [],
   "source": [
    "def replace_all(obj, find, replace):\n",
    "    if isinstance(obj, list):\n",
    "        for i in range(len(obj)):\n",
    "            obj[i] = replace_all(obj[i], find, replace)\n",
    "    elif isinstance(obj, dict):\n",
    "        for k, v in obj.items():\n",
    "            obj[k] = replace_all(v, find, replace)\n",
    "    elif isinstance(obj, str):\n",
    "        obj = obj.replace(find, replace)\n",
    "    return obj"
   ]
  },
  {
   "cell_type": "code",
   "execution_count": null,
   "metadata": {},
   "outputs": [],
   "source": [
    "filename = \"recipe_data_ugc.json\"\n",
    "f = open(\"../data/recipes_url_ugc.txt\",\"r\")\n",
    "recipe_url_ugc = f.read().split('\\n')\n",
    "try:\n",
    "    with open(filename, \"r\") as f:\n",
    "        old_data = json.load(f)\n",
    "except FileNotFoundError:\n",
    "    old_data = []\n",
    "# url = \"https://www.wongnai.com/recipes/ugc/008cc13d05504d2f86e059f4609224fd\"\n",
    "recipe_url_ugc = list(recipe_url_ugc)[len(old_data)+1:]\n",
    "\n",
    "for url in recipe_url_ugc:\n",
    "    new_data = get_recipe_data_ugc(url)\n",
    "    new_data = replace_all(new_data, \"_-x_\", \"1968x0\")\n",
    "    # updated_data = old_data + [new_data]\n",
    "    if(new_data):\n",
    "        old_data.append(new_data)\n",
    "    else:\n",
    "        break\n",
    "    \n",
    "with open(filename, \"w\") as f:\n",
    "    json.dump(old_data, f)\n",
    "\n",
    "print(\"Data written to file:\", filename)"
   ]
  },
  {
   "cell_type": "code",
   "execution_count": null,
   "metadata": {},
   "outputs": [],
   "source": [
    "filename = \"recipe_data.json\"\n",
    "\n",
    "try:\n",
    "    with open(filename, \"r\") as f:\n",
    "        old_data = json.load(f)\n",
    "except FileNotFoundError:\n",
    "    old_data = []\n",
    "# url = \"https://www.wongnai.com/recipes/ugc/008cc13d05504d2f86e059f4609224fd\"\n",
    "\n",
    "for url in recipe_url:\n",
    "    new_data = get_recipe_data(url)\n",
    "    new_data = replace_all(new_data, \"_-x_\", \"1968x0\")\n",
    "    # updated_data = old_data + [new_data]\n",
    "    old_data.append(new_data)\n",
    "    \n",
    "with open(filename, \"w\") as f:\n",
    "    json.dump(old_data, f)\n",
    "\n",
    "print(\"Data written to file:\", filename)"
   ]
  },
  {
   "cell_type": "code",
   "execution_count": null,
   "metadata": {},
   "outputs": [],
   "source": [
    "def clean_data_ugc(recipe_data:dict):\n",
    "  recipe_data = [d for d in recipe_data if d != None] \n",
    "  remove_keys = [\"id\", \"description\",\"yield\",\"cookTimeH\",\"cookTimeM\",\"prepTimeH\",\"prepTimeM\",\"state\",\"quality\",\"type\",\"createdTime\",\"lastUpdatedTime\",\"publishedTime\",\"totalHomework\",\"totalComment\",\"owner\",\"instructions\",\"bookmark\",\"videos\",\"orderLink\"]\n",
    "  list(map(recipe_data.pop, remove_keys))\n",
    "  print(recipe_data)"
   ]
  },
  {
   "cell_type": "code",
   "execution_count": null,
   "metadata": {},
   "outputs": [],
   "source": [
    "from boltons.iterutils import remap\n",
    "\n",
    "def sof_solution(data):\n",
    "    sensitive = {\"id\", \"description\",\"yield\",\"cookTimeH\",\"cookTimeM\",\"prepTimeH\",\"prepTimeM\",\"state\",\"quality\",\"type\",\"createdTime\",\"lastUpdatedTime\",\"publishedTime\",\"totalHomework\",\"totalComment\",\"owner\",\"instructions\",\"bookmark\",\"videos\",\"orderLink\",\"photos.photoId\",\n",
    "    \"photos.width\",\"photos.height\",\"photos.description\",\"photos.thumbnailUrl\",\"photos.seq\",\"ingredients.id\",\"ingredients.recipeId\",\n",
    "    \"ingredients.ingredientThaiName\",\"ingredients.ingredientEnglishName\",\"ingredients.seq\",\"tags.id\",\"tags.thaiName\",\n",
    "    \"tags.englishName\"}\n",
    "\n",
    "    clean = remap(\n",
    "        data,\n",
    "        visit=lambda path, key, value: drop_keys(path, key, value, sensitive)\n",
    "    )\n",
    "    for idx,x in enumerate(clean[\"tags\"]):\n",
    "        clean[\"tags\"][idx][\"category\"] = x[\"category\"][\"primaryName\"]\n",
    "    return clean\n",
    "\n",
    "def drop_keys(path, key, value, sensitive):\n",
    "    if len(path) > 0:\n",
    "        nested_key = f\"{'.'.join([i for i in path if isinstance(i, str)])}.{key}\"\n",
    "        return nested_key not in sensitive\n",
    "    return key not in sensitive"
   ]
  },
  {
   "cell_type": "code",
   "execution_count": null,
   "metadata": {},
   "outputs": [],
   "source": [
    "import json\n",
    "f = open ('recipe_data_ugc.json', \"r\",encoding=\"utf-8\")\n",
    "data = json.loads(f.read())\n",
    "\n",
    "with open(\"clean_recipe_data_ugc.json\",\"w\") as f:\n",
    "  json.dump([sof_solution(d) for d in data],f,ensure_ascii=False)"
   ]
  },
  {
   "cell_type": "code",
   "execution_count": null,
   "metadata": {},
   "outputs": [],
   "source": [
    "keywordspicy = [\"พริกขี้หนู\",\"พริกแกง\",\"พริกชี้ฟ้า\",\"น้ำมันพริกเผา\",\"น้ำพริกเผา\",\"พริกจินดา\",\"พริกป่น\",\"พริกแห้ง\"]"
   ]
  }
 ],
 "metadata": {
  "kernelspec": {
   "display_name": "Python 3",
   "language": "python",
   "name": "python3"
  },
  "language_info": {
   "codemirror_mode": {
    "name": "ipython",
    "version": 3
   },
   "file_extension": ".py",
   "mimetype": "text/x-python",
   "name": "python",
   "nbconvert_exporter": "python",
   "pygments_lexer": "ipython3",
   "version": "3.9.12"
  },
  "orig_nbformat": 4,
  "vscode": {
   "interpreter": {
    "hash": "81794d4967e6c3204c66dcd87b604927b115b27c00565d3d43f05ba2f3a2cb0d"
   }
  }
 },
 "nbformat": 4,
 "nbformat_minor": 2
}
