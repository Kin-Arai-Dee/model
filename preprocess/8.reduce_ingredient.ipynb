{
 "cells": [
  {
   "cell_type": "code",
   "execution_count": 1,
   "metadata": {},
   "outputs": [],
   "source": [
    "import sys\n",
    "from pathlib import Path\n",
    "\n",
    "# in jupyter (lab / notebook), based on notebook path\n",
    "module_path = str(Path.cwd().parents[0])\n",
    "\n",
    "if module_path not in sys.path:\n",
    "    sys.path.append(module_path)"
   ]
  },
  {
   "cell_type": "code",
   "execution_count": 2,
   "metadata": {},
   "outputs": [],
   "source": [
    "from dictionary.ingredient_dict import ingredient_dict"
   ]
  },
  {
   "cell_type": "code",
   "execution_count": 3,
   "metadata": {},
   "outputs": [],
   "source": [
    "ingredient_value = list(ingredient_dict.values())"
   ]
  },
  {
   "cell_type": "code",
   "execution_count": 4,
   "metadata": {},
   "outputs": [],
   "source": [
    "import re"
   ]
  },
  {
   "cell_type": "code",
   "execution_count": 5,
   "metadata": {},
   "outputs": [],
   "source": [
    "reduce_ingre = {}"
   ]
  },
  {
   "cell_type": "code",
   "execution_count": 6,
   "metadata": {},
   "outputs": [],
   "source": [
    "def filter_By_word(d,word):\n",
    "  return [x for x in  d if re.search(word,x)],[x for x in  d if not re.search(word,x)]"
   ]
  },
  {
   "cell_type": "code",
   "execution_count": 7,
   "metadata": {},
   "outputs": [],
   "source": [
    "def reduce_ingredient_by_word(reduce_ingre,word,name,test=True):\n",
    "  global ingredient_value\n",
    "\n",
    "  a,b = filter_By_word(ingredient_value,word)\n",
    "  print(a)\n",
    "  if not test:\n",
    "    reduce_ingre[name] = a\n",
    "    ingredient_value = b\n",
    "\n",
    "  return reduce_ingre"
   ]
  },
  {
   "cell_type": "code",
   "execution_count": 8,
   "metadata": {},
   "outputs": [
    {
     "name": "stdout",
     "output_type": "stream",
     "text": [
      "['เนื้อหมู', 'เบคอน', 'แฮม', 'หมูยอ', 'กระดูกหมู', 'ซี่โครงหมู', 'หมูกรอบ', 'เบค่อน', 'หมูหยอง', 'หมูแดง', 'กระดูกอ่อน', 'โบโลน่า', 'กากหมู', 'แคปหมู']\n"
     ]
    }
   ],
   "source": [
    "reduce_ingre = reduce_ingredient_by_word(reduce_ingre,'^(?!(น้ำจิ้ม|มัน)).*หมู|โบโลน่า|แฮม|เบคอน|เบค่อน|กระดูกอ่อน','หมู',test=False)"
   ]
  },
  {
   "cell_type": "code",
   "execution_count": 9,
   "metadata": {},
   "outputs": [
    {
     "name": "stdout",
     "output_type": "stream",
     "text": [
      "['เครื่องใน']\n"
     ]
    }
   ],
   "source": [
    "reduce_ingre = reduce_ingredient_by_word(reduce_ingre,'เครื่องใน','เครื่องใน',test=False)"
   ]
  },
  {
   "cell_type": "code",
   "execution_count": 10,
   "metadata": {},
   "outputs": [
    {
     "name": "stdout",
     "output_type": "stream",
     "text": [
      "['เนื้อ']\n"
     ]
    }
   ],
   "source": [
    "reduce_ingre = reduce_ingredient_by_word(reduce_ingre,'^เนื้อ$','เนื้อ',test=False)"
   ]
  },
  {
   "cell_type": "code",
   "execution_count": 11,
   "metadata": {},
   "outputs": [
    {
     "name": "stdout",
     "output_type": "stream",
     "text": [
      "['ไส้กรอก', 'กุนเชียง', 'แหนม', 'ไส้อั่ว', 'ฮอตดอก']\n"
     ]
    }
   ],
   "source": [
    "reduce_ingre = reduce_ingredient_by_word(reduce_ingre,'ไส้อั่ว|ไส้กรอก|กุนเชียง|แหนม|ฮอตดอก','เนื้อสัตว์แปรรูป',test=False)\n"
   ]
  },
  {
   "cell_type": "code",
   "execution_count": 12,
   "metadata": {},
   "outputs": [
    {
     "name": "stdout",
     "output_type": "stream",
     "text": [
      "['หมึก', 'ไข่ปลาหมึก']\n"
     ]
    }
   ],
   "source": [
    "reduce_ingre = reduce_ingredient_by_word(reduce_ingre,'หมึก','หมึก',test=False)"
   ]
  },
  {
   "cell_type": "code",
   "execution_count": 13,
   "metadata": {},
   "outputs": [
    {
     "name": "stdout",
     "output_type": "stream",
     "text": [
      "['ปลากระป๋อง', 'ปลาแผ่น', 'ปลาเส้น', 'เนื้อปลา', 'กระเพาะปลา']\n"
     ]
    }
   ],
   "source": [
    "reduce_ingre = reduce_ingredient_by_word(reduce_ingre,'^(?!น้ำ).*ปลา','ปลา',test=False)"
   ]
  },
  {
   "cell_type": "code",
   "execution_count": 14,
   "metadata": {},
   "outputs": [
    {
     "name": "stdout",
     "output_type": "stream",
     "text": [
      "['ไข่ไก่', 'เนื้อไก่', 'ขาไก่', 'น้ำจิ้มไก่', 'ตีนไก่', 'โครงไก่', 'ไก่จ๊อ']\n"
     ]
    }
   ],
   "source": [
    "reduce_ingre = reduce_ingredient_by_word(reduce_ingre,'ไก่','ไก่',test=False)"
   ]
  },
  {
   "cell_type": "code",
   "execution_count": 15,
   "metadata": {},
   "outputs": [
    {
     "name": "stdout",
     "output_type": "stream",
     "text": [
      "['กุ้ง', 'กุ้งแห้ง', 'ไข่กุ้ง', 'มันกุ้ง']\n"
     ]
    }
   ],
   "source": [
    "reduce_ingre = reduce_ingredient_by_word(reduce_ingre,'กุ้ง','กุ้ง',test=False)"
   ]
  },
  {
   "cell_type": "code",
   "execution_count": 16,
   "metadata": {},
   "outputs": [
    {
     "name": "stdout",
     "output_type": "stream",
     "text": [
      "['น้ำมันหอย', 'หอย']\n"
     ]
    }
   ],
   "source": [
    "reduce_ingre = reduce_ingredient_by_word(reduce_ingre,'หอย','หอย')"
   ]
  },
  {
   "cell_type": "code",
   "execution_count": 17,
   "metadata": {},
   "outputs": [
    {
     "name": "stdout",
     "output_type": "stream",
     "text": [
      "['ปูอัด', 'เนื้อปู']\n"
     ]
    }
   ],
   "source": [
    "reduce_ingre = reduce_ingredient_by_word(reduce_ingre,'ปู','ปู')"
   ]
  },
  {
   "cell_type": "code",
   "execution_count": 18,
   "metadata": {},
   "outputs": [],
   "source": [
    "with open('../data/8.ingre.txt', 'w') as f:\n",
    "  f.write('\\n'.join(sorted(ingredient_value)))\n",
    "  f.close()"
   ]
  },
  {
   "cell_type": "code",
   "execution_count": null,
   "metadata": {},
   "outputs": [],
   "source": [
    "with open('../data/8.ingre.txt', 'w') as f:\n",
    "  f.write('\\n'.join(sorted(ingredient_value)))\n",
    "  f.close()"
   ]
  },
  {
   "cell_type": "code",
   "execution_count": 20,
   "metadata": {},
   "outputs": [],
   "source": [
    "import json\n",
    "\n",
    "with open('../dictionary/meat_ingredient.json','w',encoding='utf8')as file:\n",
    "  json.dump(reduce_ingre,file,ensure_ascii=False)"
   ]
  },
  {
   "cell_type": "code",
   "execution_count": 22,
   "metadata": {},
   "outputs": [
    {
     "name": "stdout",
     "output_type": "stream",
     "text": [
      "['ซอสปรุงรส', 'ซอสมะเขือเทศ', 'ซอสพริก', 'ซอสเห็ดหอม', 'ซอสเทริยากิ', 'ซอสเย็นตาโฟ', 'ซอสภูเขา', 'ซอสเพสโต้']\n"
     ]
    }
   ],
   "source": [
    "reduce_ingredient_by_word('ซอส','ซอส',test=False)"
   ]
  }
 ],
 "metadata": {
  "kernelspec": {
   "display_name": "Python 3",
   "language": "python",
   "name": "python3"
  },
  "language_info": {
   "codemirror_mode": {
    "name": "ipython",
    "version": 3
   },
   "file_extension": ".py",
   "mimetype": "text/x-python",
   "name": "python",
   "nbconvert_exporter": "python",
   "pygments_lexer": "ipython3",
   "version": "3.9.4"
  },
  "orig_nbformat": 4,
  "vscode": {
   "interpreter": {
    "hash": "81794d4967e6c3204c66dcd87b604927b115b27c00565d3d43f05ba2f3a2cb0d"
   }
  }
 },
 "nbformat": 4,
 "nbformat_minor": 2
}
