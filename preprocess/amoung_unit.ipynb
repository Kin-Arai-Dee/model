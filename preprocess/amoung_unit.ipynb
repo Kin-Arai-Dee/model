{
 "cells": [
  {
   "cell_type": "code",
   "execution_count": null,
   "metadata": {},
   "outputs": [],
   "source": [
    "import pandas as pd\n",
    "\n",
    "df = pd.read_csv('../data/new_data.csv')"
   ]
  },
  {
   "cell_type": "code",
   "execution_count": null,
   "metadata": {},
   "outputs": [],
   "source": [
    "df"
   ]
  },
  {
   "cell_type": "code",
   "execution_count": null,
   "metadata": {},
   "outputs": [],
   "source": [
    "df = df[['short_title','ingredients']]"
   ]
  },
  {
   "cell_type": "code",
   "execution_count": null,
   "metadata": {},
   "outputs": [],
   "source": [
    "df"
   ]
  },
  {
   "cell_type": "code",
   "execution_count": null,
   "metadata": {},
   "outputs": [],
   "source": [
    "from ast import literal_eval\n",
    "\n",
    "def string_to_json(text: str):\n",
    "  return literal_eval(text)\n",
    "\n",
    "df['ingredients_object'] = df['ingredients'].apply(string_to_json)"
   ]
  },
  {
   "cell_type": "code",
   "execution_count": null,
   "metadata": {},
   "outputs": [],
   "source": [
    "import re\n",
    "\n",
    "def remove_emojis(data):\n",
    "    return ''.join(re.findall(r\"[\\u0E00-\\u0E7Fa-zA-Z\\.']\", data))"
   ]
  },
  {
   "cell_type": "code",
   "execution_count": null,
   "metadata": {},
   "outputs": [],
   "source": [
    "from pythainlp.tokenize import word_tokenize\n",
    "from pythainlp.tag import pos_tag\n",
    "import string\n",
    "\n",
    "def remove_numbers(input_string):\n",
    "    input_string = remove_emojis(input_string)\n",
    "    return input_string.translate(str.maketrans(\"\", \"\", string.digits))\n",
    "\n",
    "df['amounts'] = df['ingredients_object'].apply(lambda ingredients : [pos_tag(word_tokenize(remove_numbers(ingredient['amount']),engine=\"newmm\",keep_whitespace=False)) for ingredient in ingredients])"
   ]
  },
  {
   "cell_type": "code",
   "execution_count": null,
   "metadata": {},
   "outputs": [],
   "source": [
    "df[['short_title','amounts']].loc[4][\"amounts\"]"
   ]
  },
  {
   "cell_type": "code",
   "execution_count": null,
   "metadata": {},
   "outputs": [],
   "source": [
    "def filter_only_NCMN(amounts: list):\n",
    "  amounts_arr = [[a[0] for a in amount if a[1] in ['NCMN','DCNM','CMTR','JSBR']] for amount in amounts if amount != []]\n",
    "\n",
    "  if amounts_arr:\n",
    "    return amounts_arr\n",
    "  else:\n",
    "    return None\n",
    "\n",
    "\n",
    "df['NCMN_amounts'] = df['amounts'].apply(filter_only_NCMN)"
   ]
  },
  {
   "cell_type": "code",
   "execution_count": null,
   "metadata": {},
   "outputs": [],
   "source": [
    "df[['short_title','NCMN_amounts']]"
   ]
  },
  {
   "cell_type": "code",
   "execution_count": null,
   "metadata": {},
   "outputs": [],
   "source": [
    "filtered_df = df[df['NCMN_amounts'].notnull()]"
   ]
  },
  {
   "cell_type": "code",
   "execution_count": null,
   "metadata": {},
   "outputs": [],
   "source": [
    "filtered_df"
   ]
  },
  {
   "cell_type": "code",
   "execution_count": null,
   "metadata": {},
   "outputs": [],
   "source": [
    "amounts_list = filtered_df[\"NCMN_amounts\"].to_list()\n",
    "amounts = sum(amounts_list, [])\n",
    "amounts = [''.join(amount) for amount in amounts if ''.join(amount) != '']"
   ]
  },
  {
   "cell_type": "code",
   "execution_count": null,
   "metadata": {},
   "outputs": [],
   "source": [
    "amounts"
   ]
  },
  {
   "cell_type": "code",
   "execution_count": null,
   "metadata": {},
   "outputs": [],
   "source": [
    "amounts = set(amounts)"
   ]
  },
  {
   "cell_type": "code",
   "execution_count": null,
   "metadata": {},
   "outputs": [],
   "source": [
    "list(amounts)"
   ]
  }
 ],
 "metadata": {
  "interpreter": {
   "hash": "aee8b7b246df8f9039afb4144a1f6fd8d2ca17a180786b69acc140d282b71a49"
  },
  "kernelspec": {
   "display_name": "Python 3.9.12 64-bit",
   "language": "python",
   "name": "python3"
  },
  "language_info": {
   "codemirror_mode": {
    "name": "ipython",
    "version": 3
   },
   "file_extension": ".py",
   "mimetype": "text/x-python",
   "name": "python",
   "nbconvert_exporter": "python",
   "pygments_lexer": "ipython3",
   "version": "3.9.12"
  },
  "orig_nbformat": 4
 },
 "nbformat": 4,
 "nbformat_minor": 2
}
