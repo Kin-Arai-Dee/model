{
 "cells": [
  {
   "cell_type": "code",
   "execution_count": null,
   "metadata": {},
   "outputs": [],
   "source": [
    "import warnings\n",
    "warnings.simplefilter(action='ignore', category=FutureWarning)\n",
    "\n",
    "import pandas as pd\n",
    "\n",
    "df = pd.read_json('../data/5.final_ingredient_data.json')"
   ]
  },
  {
   "cell_type": "code",
   "execution_count": null,
   "metadata": {},
   "outputs": [],
   "source": [
    "df"
   ]
  },
  {
   "cell_type": "code",
   "execution_count": null,
   "metadata": {},
   "outputs": [],
   "source": [
    "uniq_external_id = df['tags'].apply(lambda tags: [tag[\"externalId\"] for tag in tags if tag[\"externalId\"] != 'main-dish-recipes']).tolist()"
   ]
  },
  {
   "cell_type": "code",
   "execution_count": null,
   "metadata": {},
   "outputs": [],
   "source": [
    "uniq_external_id = list(set(sum(uniq_external_id, [])))"
   ]
  },
  {
   "cell_type": "code",
   "execution_count": null,
   "metadata": {},
   "outputs": [],
   "source": [
    "uniq_external_id"
   ]
  },
  {
   "cell_type": "code",
   "execution_count": null,
   "metadata": {},
   "outputs": [],
   "source": [
    "df['tags2'] = df['tags'].apply(lambda tags: [tag['externalId'] for tag in tags])"
   ]
  },
  {
   "cell_type": "code",
   "execution_count": null,
   "metadata": {},
   "outputs": [],
   "source": [
    "df[['tags2']]"
   ]
  },
  {
   "cell_type": "code",
   "execution_count": null,
   "metadata": {},
   "outputs": [],
   "source": [
    "def is_external_id_in_list(external_ids, check_external_id):\n",
    "  if(check_external_id in external_ids):\n",
    "    return 1\n",
    "  else:\n",
    "    return 0\n",
    "\n",
    "for external_id in uniq_external_id:\n",
    "  df[external_id] = df['tags2'].apply(lambda x : is_external_id_in_list(x,external_id))"
   ]
  },
  {
   "cell_type": "code",
   "execution_count": null,
   "metadata": {},
   "outputs": [],
   "source": [
    "df"
   ]
  },
  {
   "cell_type": "code",
   "execution_count": null,
   "metadata": {},
   "outputs": [],
   "source": [
    "import sys\n",
    "from pathlib import Path\n",
    "\n",
    "# in jupyter (lab / notebook), based on notebook path\n",
    "module_path = str(Path.cwd().parents[0])\n",
    "\n",
    "if module_path not in sys.path:\n",
    "    sys.path.append(module_path)"
   ]
  },
  {
   "cell_type": "code",
   "execution_count": null,
   "metadata": {},
   "outputs": [],
   "source": [
    "from dictionary.ingredient_dict import ingredient_dict\n",
    "from dictionary.unit_dict import measure, amount_for_uncount_unit"
   ]
  },
  {
   "cell_type": "code",
   "execution_count": null,
   "metadata": {},
   "outputs": [],
   "source": [
    "def set_amount(ingredient):\n",
    "  if ingredient['unit'] in measure:\n",
    "    return ingredient['amount']*measure[ingredient['unit']] \n",
    "  elif ingredient['unit'] in amount_for_uncount_unit[ingredient['ingredientName']]:\n",
    "    return ingredient['amount']*amount_for_uncount_unit[ingredient['ingredientName']][ingredient['unit']]\n",
    "  return ingredient['amount']"
   ]
  },
  {
   "cell_type": "code",
   "execution_count": null,
   "metadata": {},
   "outputs": [],
   "source": [
    "def is_ingredients_in_list(ingredients, ingre_name):\n",
    "  for ingredient in ingredients:\n",
    "    if ingredient['ingredientName'] == ingre_name:\n",
    "      return set_amount(ingredient)\n",
    "  return 0"
   ]
  },
  {
   "cell_type": "code",
   "execution_count": null,
   "metadata": {},
   "outputs": [],
   "source": [
    "# is_ingredients_in_list([{'ingredientName': 'วุ้นเส้น', 'amount': 1, 'unit': 'ซอง'},\n",
    "#  {'ingredientName': 'หมูกรอบ', 'amount': 1, 'unit': 'cup'},\n",
    "#  {'ingredientName': 'ใบกะเพรา', 'amount': 1, 'unit': 'cup'},\n",
    "#  {'ingredientName': 'พริก', 'amount': 4, 'unit': 'เม็ด'},\n",
    "#  {'ingredientName': 'กระเทียม', 'amount': 4, 'unit': 'lobe'},\n",
    "#  {'ingredientName': 'ซีอิ๊วขาว', 'amount': 0.5, 'unit': 'table_spoon'},\n",
    "#  {'ingredientName': 'น้ำตาล', 'amount': 1, 'unit': 'table_spoon'},\n",
    "#  {'ingredientName': 'ผงปรุงรส', 'amount': 0.5, 'unit': 'table_spoon'},\n",
    "#  {'ingredientName': 'น้ำเปล่า', 'amount': 2.125, 'unit': 'table_spoon'},\n",
    "#  {'ingredientName': 'น้ำมัน', 'amount': 1, 'unit': 'table_spoon'}],'พริก')"
   ]
  },
  {
   "cell_type": "code",
   "execution_count": null,
   "metadata": {},
   "outputs": [],
   "source": [
    "for ingredient_name in ingredient_dict.values():\n",
    "  df[ingredient_name] = df['ingredients'].apply(lambda x : is_ingredients_in_list(x,ingredient_name))"
   ]
  },
  {
   "cell_type": "code",
   "execution_count": null,
   "metadata": {},
   "outputs": [],
   "source": [
    "df"
   ]
  },
  {
   "cell_type": "code",
   "execution_count": null,
   "metadata": {},
   "outputs": [],
   "source": [
    "df['น้ำปลา']"
   ]
  },
  {
   "cell_type": "code",
   "execution_count": null,
   "metadata": {},
   "outputs": [],
   "source": [
    "import numpy as np"
   ]
  },
  {
   "cell_type": "code",
   "execution_count": null,
   "metadata": {},
   "outputs": [],
   "source": [
    "min_by_tag = {}\n",
    "mean_by_tag = {}"
   ]
  },
  {
   "cell_type": "code",
   "execution_count": null,
   "metadata": {},
   "outputs": [],
   "source": [
    "def mean_and_min_by_tag(d_frame,tag):\n",
    "  d_frame = d_frame[d_frame[tag] == 1]\n",
    "  min_by_tag[tag] = {}\n",
    "  mean_by_tag[tag] = {}\n",
    "  for ingre_name in ingredient_dict.values():\n",
    "    df_ingre = d_frame[d_frame[ingre_name] > 0.1]\n",
    "    q_low = df_ingre[ingre_name].quantile(0.01)\n",
    "    q_hi  = df_ingre[ingre_name].quantile(0.99)\n",
    "    df_ingre_no_out_line = df_ingre[(df_ingre[ingre_name] < q_hi) & (df_ingre[ingre_name] > q_low)]\n",
    "    mean = df_ingre_no_out_line[ingre_name].mean()\n",
    "    minn = df_ingre_no_out_line[ingre_name].min()\n",
    "    if not np.isnan(mean):\n",
    "      mean_by_tag[tag][ingre_name] = float(mean)\n",
    "    if not np.isnan(minn):\n",
    "      min_by_tag[tag][ingre_name] = float(minn)\n"
   ]
  },
  {
   "cell_type": "code",
   "execution_count": null,
   "metadata": {},
   "outputs": [],
   "source": [
    "# about 1.5 mins\n",
    "for external_id in uniq_external_id:\n",
    "  mean_and_min_by_tag(df,external_id)"
   ]
  },
  {
   "cell_type": "code",
   "execution_count": null,
   "metadata": {},
   "outputs": [],
   "source": [
    "mean_by_tag"
   ]
  },
  {
   "cell_type": "code",
   "execution_count": null,
   "metadata": {},
   "outputs": [],
   "source": [
    "min_by_tag"
   ]
  },
  {
   "cell_type": "code",
   "execution_count": null,
   "metadata": {},
   "outputs": [],
   "source": [
    "# import json\n",
    "\n",
    "# with open('../dictionary/mean_by_tag.json','w',encoding='utf8')as file:\n",
    "#   json.dump(mean_by_tag,file,ensure_ascii=False)\n",
    "# with open('../dictionary/min_by_tag.json','w',encoding='utf8')as file:\n",
    "#   json.dump(min_by_tag,file,ensure_ascii=False)"
   ]
  },
  {
   "cell_type": "code",
   "execution_count": null,
   "metadata": {},
   "outputs": [],
   "source": [
    "df"
   ]
  },
  {
   "cell_type": "code",
   "execution_count": null,
   "metadata": {},
   "outputs": [],
   "source": [
    "def get_value_from_tag(ingre,tags,min = False):\n",
    "  value = []\n",
    "  if min:\n",
    "    data = min_by_tag\n",
    "  else:\n",
    "    data = mean_by_tag\n",
    "  for tag in tags:\n",
    "    if ingre in data[tag]:\n",
    "      value.append(data[tag][ingre])\n",
    "  mean = np.array(value).mean()\n",
    "  if np.isnan(mean):\n",
    "    return 0\n",
    "  else: return mean\n"
   ]
  },
  {
   "cell_type": "code",
   "execution_count": null,
   "metadata": {},
   "outputs": [],
   "source": [
    "# get_value_from_tag('น้ำตาล',[\"Vegan-Recipe\",'cc-pork'],min=True)"
   ]
  },
  {
   "cell_type": "code",
   "execution_count": null,
   "metadata": {},
   "outputs": [],
   "source": [
    "df[['tags2']].sample(15)"
   ]
  },
  {
   "cell_type": "code",
   "execution_count": null,
   "metadata": {},
   "outputs": [],
   "source": [
    "tags = df['tags2'].tolist()"
   ]
  },
  {
   "cell_type": "code",
   "execution_count": null,
   "metadata": {},
   "outputs": [],
   "source": [
    "tags = [[t for t in x if t != 'main-dish-recipes'] for x in tags]"
   ]
  },
  {
   "cell_type": "code",
   "execution_count": null,
   "metadata": {},
   "outputs": [],
   "source": [
    "tags"
   ]
  },
  {
   "cell_type": "code",
   "execution_count": null,
   "metadata": {},
   "outputs": [],
   "source": [
    "for x in df:\n",
    "  if x not in ingredient_dict.values():\n",
    "    continue\n",
    "  for y in range(len(df)):\n",
    "    if df[x][y] == -1:\n",
    "      df[x][y] = get_value_from_tag(x,tags[y],min=False)\n",
    "      print(df[x][y])\n",
    "    if df[x][y] == -2:\n",
    "      df[x][y] = get_value_from_tag(x,tags[y],min=True)\n",
    "      print(df[x][y])"
   ]
  },
  {
   "cell_type": "code",
   "execution_count": null,
   "metadata": {},
   "outputs": [],
   "source": [
    "df"
   ]
  },
  {
   "cell_type": "code",
   "execution_count": null,
   "metadata": {},
   "outputs": [],
   "source": [
    "df_model = df.drop(['url','allTimeScore','view','ingredients','photos','tags','tags2','is_has_amoungs'],axis=1)"
   ]
  },
  {
   "cell_type": "code",
   "execution_count": null,
   "metadata": {},
   "outputs": [],
   "source": [
    "df_model"
   ]
  },
  {
   "cell_type": "code",
   "execution_count": null,
   "metadata": {},
   "outputs": [],
   "source": [
    "df_model.to_csv('../data/data_for_model.csv',index=False)"
   ]
  },
  {
   "cell_type": "code",
   "execution_count": null,
   "metadata": {},
   "outputs": [],
   "source": [
    "category_tag = {}"
   ]
  },
  {
   "cell_type": "code",
   "execution_count": null,
   "metadata": {},
   "outputs": [],
   "source": [
    "for x in df['tags']:\n",
    "  for tag in x:\n",
    "    if tag['category'] not in category_tag:\n",
    "      category_tag[tag['category']] = set()\n",
    "    category_tag[tag['category']].add(tag['externalId'])\n"
   ]
  },
  {
   "cell_type": "code",
   "execution_count": null,
   "metadata": {},
   "outputs": [],
   "source": [
    "cate_dict = {}\n",
    "for k in category_tag:\n",
    "  cate_dict[k] = list(category_tag[k])"
   ]
  },
  {
   "cell_type": "code",
   "execution_count": null,
   "metadata": {},
   "outputs": [],
   "source": [
    "cate_dict"
   ]
  },
  {
   "cell_type": "code",
   "execution_count": null,
   "metadata": {},
   "outputs": [],
   "source": [
    "import json\n",
    "\n",
    "with open('../dictionary/tag_category.json','w',encoding='utf8')as file:\n",
    "  json.dump(cate_dict,file,ensure_ascii=False)"
   ]
  }
 ],
 "metadata": {
  "kernelspec": {
   "display_name": "Python 3",
   "language": "python",
   "name": "python3"
  },
  "language_info": {
   "codemirror_mode": {
    "name": "ipython",
    "version": 3
   },
   "file_extension": ".py",
   "mimetype": "text/x-python",
   "name": "python",
   "nbconvert_exporter": "python",
   "pygments_lexer": "ipython3",
   "version": "3.9.16"
  },
  "orig_nbformat": 4,
  "vscode": {
   "interpreter": {
    "hash": "81794d4967e6c3204c66dcd87b604927b115b27c00565d3d43f05ba2f3a2cb0d"
   }
  }
 },
 "nbformat": 4,
 "nbformat_minor": 2
}
